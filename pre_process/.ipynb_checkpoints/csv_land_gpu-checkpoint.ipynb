{
 "cells": [
  {
   "cell_type": "markdown",
   "id": "938cc022",
   "metadata": {},
   "source": [
    "# Create CSV for temperature per country per year"
   ]
  },
  {
   "cell_type": "markdown",
   "id": "ce4f8eae",
   "metadata": {},
   "source": [
    "## Imports"
   ]
  },
  {
   "cell_type": "code",
   "execution_count": 1,
   "id": "022dce46",
   "metadata": {},
   "outputs": [
    {
     "name": "stdout",
     "output_type": "stream",
     "text": [
      "Python version: 3.9.13 (main, Aug 25 2022, 23:51:50) [MSC v.1916 64 bit (AMD64)]\n",
      "Numba version: 0.55.1\n",
      "Numpy version: 1.21.5\n"
     ]
    }
   ],
   "source": [
    "import sys\n",
    "import numba \n",
    "import numpy as np\n",
    "from numba import cuda\n",
    "import pandas as pd\n",
    "import time\n",
    "\n",
    "t=time.time()\n",
    "\n",
    "print(\"Python version:\", sys.version)\n",
    "print(\"Numba version:\", numba.__version__)\n",
    "print(\"Numpy version:\", np.__version__)"
   ]
  },
  {
   "cell_type": "markdown",
   "id": "9b0ac1a7",
   "metadata": {},
   "source": [
    "## Load Datas"
   ]
  },
  {
   "cell_type": "code",
   "execution_count": 2,
   "id": "b396dcab",
   "metadata": {},
   "outputs": [],
   "source": [
    "data_global=pd.read_csv(\"GlobalTemperatures.csv\")\n",
    "all_temp=data_global[['dt','LandAverageTemperature']]\n",
    "data_country=pd.read_csv(\"GlobalLandTemperaturesByCountry.csv\")\n",
    "temp_country=data_country[['dt','Country','AverageTemperature']]\n",
    "template=pd.read_csv(\"world_template.csv\")"
   ]
  },
  {
   "cell_type": "markdown",
   "id": "861ccb3f",
   "metadata": {},
   "source": [
    "## Compute Global Mean"
   ]
  },
  {
   "cell_type": "code",
   "execution_count": 3,
   "id": "3ed5403e",
   "metadata": {},
   "outputs": [],
   "source": [
    "years=np.unique(all_temp['dt'].apply(lambda x:x[:4]))\n",
    "\n",
    "@cuda.jit\n",
    "def compute_mean(array):\n",
    "    compt=0\n",
    "    for x in range(len(array)):\n",
    "        compt+=array[x]\n",
    "    array[0]=compt/len(array)"
   ]
  },
  {
   "cell_type": "code",
   "execution_count": 4,
   "id": "2491cc9d",
   "metadata": {},
   "outputs": [],
   "source": [
    "tmp=[]\n",
    "for year in years:\n",
    "    byyear=np.array(all_temp[all_temp['dt'].apply(lambda x:x[:4])==year]['LandAverageTemperature'].dropna(), dtype=np.float32)\n",
    "    byyear_gpu=cuda.to_device(byyear)\n",
    "    block_size=32\n",
    "    grid_size=(byyear.shape[0]+block_size-1)//block_size\n",
    "    compute_mean[block_size, grid_size](byyear_gpu)\n",
    "    byyear_gpu.copy_to_host(byyear)\n",
    "    \n",
    "    if len(byyear)!=0:\n",
    "        tmp.append(byyear[0])"
   ]
  },
  {
   "cell_type": "code",
   "execution_count": 5,
   "id": "14b5cff0",
   "metadata": {},
   "outputs": [
    {
     "name": "stdout",
     "output_type": "stream",
     "text": [
      "8.369337\n"
     ]
    }
   ],
   "source": [
    "mean_temp=np.array(tmp).mean()\n",
    "print(mean_temp)"
   ]
  },
  {
   "cell_type": "markdown",
   "id": "3a7631f9",
   "metadata": {},
   "source": [
    "## Mean Temperature per Country per year"
   ]
  },
  {
   "cell_type": "code",
   "execution_count": 6,
   "id": "7f7df17f",
   "metadata": {},
   "outputs": [],
   "source": [
    "years=np.unique(temp_country['dt'].apply(lambda x:x[:4]))"
   ]
  },
  {
   "cell_type": "code",
   "execution_count": 7,
   "id": "248a6377",
   "metadata": {},
   "outputs": [],
   "source": [
    "def getfirst(l):\n",
    "    if len(l)!=0:\n",
    "        return l[0]"
   ]
  },
  {
   "cell_type": "code",
   "execution_count": 8,
   "id": "9f0fc683",
   "metadata": {},
   "outputs": [],
   "source": [
    "@cuda.jit\n",
    "def compute_all_mean(array_year_temp,list_y,array_year_country):\n",
    "    for i in range(len(list_y)):\n",
    "        res=0.0\n",
    "        compt=0.0\n",
    "        for x in range(len(array_year_temp)):\n",
    "            if array_year_country[x]==i:\n",
    "                res+=array_year_temp[x]\n",
    "                compt+=1.0\n",
    "        if compt>5: #at least 5 month of data to consider the year as valid\n",
    "            list_y[i]=res/compt\n",
    "        else:\n",
    "            list_y[i]=-666.0\n",
    "            \n",
    "# This method doesn't work for long array such as the ones with cities"
   ]
  },
  {
   "cell_type": "code",
   "execution_count": 9,
   "id": "f5c1625d",
   "metadata": {
    "scrolled": true
   },
   "outputs": [
    {
     "name": "stderr",
     "output_type": "stream",
     "text": [
      "C:\\Users\\Gabriel\\anaconda3\\lib\\site-packages\\numba\\cuda\\compiler.py:726: NumbaPerformanceWarning: \u001b[1mGrid size (3) < 2 * SM count (10) will likely result in GPU under utilization due to low occupancy.\u001b[0m\n",
      "  warn(NumbaPerformanceWarning(msg))\n"
     ]
    },
    {
     "name": "stdout",
     "output_type": "stream",
     "text": [
      "1743\n",
      "1744\n"
     ]
    },
    {
     "name": "stderr",
     "output_type": "stream",
     "text": [
      "C:\\Users\\Gabriel\\anaconda3\\lib\\site-packages\\numba\\cuda\\compiler.py:726: NumbaPerformanceWarning: \u001b[1mGrid size (8) < 2 * SM count (10) will likely result in GPU under utilization due to low occupancy.\u001b[0m\n",
      "  warn(NumbaPerformanceWarning(msg))\n",
      "C:\\Users\\Gabriel\\anaconda3\\lib\\site-packages\\numba\\cuda\\compiler.py:726: NumbaPerformanceWarning: \u001b[1mGrid size (1) < 2 * SM count (10) will likely result in GPU under utilization due to low occupancy.\u001b[0m\n",
      "  warn(NumbaPerformanceWarning(msg))\n"
     ]
    },
    {
     "name": "stdout",
     "output_type": "stream",
     "text": [
      "1745\n",
      "1746\n",
      "1747\n",
      "1748\n",
      "1749\n",
      "1750\n",
      "1751\n",
      "1752\n",
      "1753\n",
      "1754\n",
      "1755\n",
      "1756\n",
      "1757\n",
      "1758\n",
      "1759\n",
      "1760\n",
      "1761\n",
      "1762\n",
      "1763\n",
      "1764\n",
      "1765\n",
      "1766\n",
      "1767\n",
      "1768\n",
      "1769\n",
      "1770\n",
      "1771\n",
      "1772\n",
      "1773\n",
      "1774\n",
      "1775\n",
      "1776\n",
      "1777\n",
      "1778\n",
      "1779\n",
      "1780\n",
      "1781\n",
      "1782\n",
      "1783\n",
      "1784\n",
      "1785\n",
      "1786\n",
      "1787\n",
      "1788\n",
      "1789\n",
      "1790\n",
      "1791\n",
      "1792\n",
      "1793\n",
      "1794\n",
      "1795\n",
      "1796\n",
      "1797\n",
      "1798\n",
      "1799\n",
      "1800\n",
      "1801\n",
      "1802\n",
      "1803\n",
      "1804\n",
      "1805\n",
      "1806\n",
      "1807\n",
      "1808\n",
      "1809\n",
      "1810\n",
      "1811\n",
      "1812\n",
      "1813\n",
      "1814\n",
      "1815\n",
      "1816\n",
      "1817\n",
      "1818\n",
      "1819\n",
      "1820\n",
      "1821\n",
      "1822\n",
      "1823\n",
      "1824\n",
      "1825\n",
      "1826\n",
      "1827\n",
      "1828\n",
      "1829\n",
      "1830\n",
      "1831\n",
      "1832\n",
      "1833\n",
      "1834\n",
      "1835\n",
      "1836\n",
      "1837\n",
      "1838\n",
      "1839\n",
      "1840\n",
      "1841\n",
      "1842\n",
      "1843\n",
      "1844\n",
      "1845\n",
      "1846\n",
      "1847\n",
      "1848\n",
      "1849\n",
      "1850\n",
      "1851\n",
      "1852\n",
      "1853\n",
      "1854\n",
      "1855\n",
      "1856\n",
      "1857\n",
      "1858\n",
      "1859\n",
      "1860\n",
      "1861\n",
      "1862\n",
      "1863\n",
      "1864\n",
      "1865\n",
      "1866\n",
      "1867\n",
      "1868\n",
      "1869\n",
      "1870\n",
      "1871\n",
      "1872\n",
      "1873\n",
      "1874\n",
      "1875\n",
      "1876\n",
      "1877\n",
      "1878\n",
      "1879\n",
      "1880\n",
      "1881\n",
      "1882\n",
      "1883\n",
      "1884\n",
      "1885\n",
      "1886\n",
      "1887\n",
      "1888\n",
      "1889\n",
      "1890\n",
      "1891\n",
      "1892\n",
      "1893\n",
      "1894\n",
      "1895\n",
      "1896\n",
      "1897\n",
      "1898\n",
      "1899\n",
      "1900\n",
      "1901\n",
      "1902\n",
      "1903\n",
      "1904\n",
      "1905\n",
      "1906\n",
      "1907\n",
      "1908\n",
      "1909\n",
      "1910\n",
      "1911\n",
      "1912\n",
      "1913\n",
      "1914\n",
      "1915\n",
      "1916\n",
      "1917\n",
      "1918\n",
      "1919\n",
      "1920\n",
      "1921\n",
      "1922\n",
      "1923\n",
      "1924\n",
      "1925\n",
      "1926\n",
      "1927\n",
      "1928\n",
      "1929\n",
      "1930\n",
      "1931\n",
      "1932\n",
      "1933\n",
      "1934\n",
      "1935\n",
      "1936\n",
      "1937\n",
      "1938\n",
      "1939\n",
      "1940\n",
      "1941\n",
      "1942\n",
      "1943\n",
      "1944\n",
      "1945\n",
      "1946\n",
      "1947\n",
      "1948\n",
      "1949\n",
      "1950\n",
      "1951\n",
      "1952\n",
      "1953\n",
      "1954\n",
      "1955\n",
      "1956\n",
      "1957\n",
      "1958\n",
      "1959\n",
      "1960\n",
      "1961\n",
      "1962\n",
      "1963\n",
      "1964\n",
      "1965\n",
      "1966\n",
      "1967\n",
      "1968\n",
      "1969\n",
      "1970\n",
      "1971\n",
      "1972\n",
      "1973\n",
      "1974\n",
      "1975\n",
      "1976\n",
      "1977\n",
      "1978\n",
      "1979\n",
      "1980\n",
      "1981\n",
      "1982\n",
      "1983\n",
      "1984\n",
      "1985\n",
      "1986\n",
      "1987\n",
      "1988\n",
      "1989\n",
      "1990\n",
      "1991\n",
      "1992\n",
      "1993\n",
      "1994\n",
      "1995\n",
      "1996\n",
      "1997\n",
      "1998\n",
      "1999\n",
      "2000\n",
      "2001\n",
      "2002\n",
      "2003\n",
      "2004\n",
      "2005\n",
      "2006\n",
      "2007\n",
      "2008\n",
      "2009\n",
      "2010\n",
      "2011\n",
      "2012\n",
      "2013\n"
     ]
    }
   ],
   "source": [
    "dict_list_years={}\n",
    "\n",
    "for year in years:\n",
    "    by_year=np.array(temp_country[temp_country['dt'].apply(lambda x:x[:4])==year].dropna())\n",
    "    array_year_temp=np.array(by_year[:,2],dtype=np.float64)\n",
    "    array_year_country=np.array([getfirst(template.index[template['name']==i].tolist()) for i in by_year[:,1]],dtype=np.float32)\n",
    "    list_y=np.zeros(template['name'].shape[0],dtype=np.float32)\n",
    "    \n",
    "    array_year_temp_gpu=cuda.to_device(array_year_temp)\n",
    "    array_year_country_gpu=cuda.to_device(array_year_country)\n",
    "    list_y_gpu=cuda.to_device(list_y)\n",
    "    \n",
    "    block_size=32\n",
    "    grid_size=(by_year.shape[0]+block_size-1)//block_size+1\n",
    "    compute_all_mean[grid_size, block_size](array_year_temp_gpu,list_y_gpu,array_year_country_gpu)\n",
    "    list_y_gpu.copy_to_host(list_y)\n",
    "    list_y[list_y ==-666.0] = None\n",
    "    \n",
    "    print(year)\n",
    "    dict_list_years[year]=list_y.copy() \n",
    "  "
   ]
  },
  {
   "cell_type": "markdown",
   "id": "ac4f6bc6",
   "metadata": {},
   "source": [
    "## Mean per country Calculation"
   ]
  },
  {
   "cell_type": "code",
   "execution_count": 10,
   "id": "fd2cfe1a",
   "metadata": {},
   "outputs": [],
   "source": [
    "mean_per_country=[]\n",
    "for i in range(len(template['name'])):\n",
    "    list_c=[]\n",
    "    for elem in dict_list_years:\n",
    "        list_c.append(dict_list_years[elem][i])\n",
    "        \n",
    "    arr=np.array(list_c)\n",
    "    new_array = arr[np.logical_not(np.isnan(arr))]    \n",
    "    if not(new_array.any()):\n",
    "        mean_per_country.append(None)     \n",
    "    else:\n",
    "        mean_per_country.append(new_array.mean())      "
   ]
  },
  {
   "cell_type": "markdown",
   "id": "1dae2559",
   "metadata": {},
   "source": [
    "## Mean deviation calculation and csv writing"
   ]
  },
  {
   "cell_type": "code",
   "execution_count": 11,
   "id": "ad532559",
   "metadata": {},
   "outputs": [],
   "source": [
    "for year in years:\n",
    "    data_year=template\n",
    "    data_year['Temp']=dict_list_years[year]\n",
    "    array_temp=np.where(np.isnan(dict_list_years[year]), None, dict_list_years[year])\n",
    "    \n",
    "    list_mean_dev=[]\n",
    "    for i in range(len(dict_list_years[year])):\n",
    "        if not((array_temp[i]==None) or (mean_per_country[i]==None)):\n",
    "            list_mean_dev.append(array_temp[i]-mean_per_country[i])\n",
    "        else:\n",
    "            list_mean_dev.append(None)\n",
    "    \n",
    "    data_year['Mean_deviation']=list_mean_dev\n",
    "    data_year.to_csv(\"csv_countries_by_year/\"+str(year)+\"_country.csv\")\n",
    "\n"
   ]
  },
  {
   "cell_type": "code",
   "execution_count": 12,
   "id": "a3551609",
   "metadata": {},
   "outputs": [
    {
     "name": "stdout",
     "output_type": "stream",
     "text": [
      "This program took.160.0257318019867 seconds.\n"
     ]
    }
   ],
   "source": [
    "curr_t=time.time()\n",
    "\n",
    "print(\"This program took : \"+str(curr_t-t)+\" seconds.\")\n",
    "# 160 seconds"
   ]
  }
 ],
 "metadata": {
  "kernelspec": {
   "display_name": "Python 3 (ipykernel)",
   "language": "python",
   "name": "python3"
  },
  "language_info": {
   "codemirror_mode": {
    "name": "ipython",
    "version": 3
   },
   "file_extension": ".py",
   "mimetype": "text/x-python",
   "name": "python",
   "nbconvert_exporter": "python",
   "pygments_lexer": "ipython3",
   "version": "3.9.13"
  }
 },
 "nbformat": 4,
 "nbformat_minor": 5
}
