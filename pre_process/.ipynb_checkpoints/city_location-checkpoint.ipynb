{
 "cells": [
  {
   "cell_type": "code",
   "execution_count": 1,
   "id": "5f1506e6",
   "metadata": {},
   "outputs": [],
   "source": [
    "import pandas as pd\n",
    "import time\n",
    "\n",
    "t=time.time()\n",
    "pd.set_option('mode.chained_assignment', None)"
   ]
  },
  {
   "cell_type": "markdown",
   "id": "c2deccee",
   "metadata": {},
   "source": [
    "# Save location of each cities"
   ]
  },
  {
   "cell_type": "code",
   "execution_count": 2,
   "id": "8f2e171b",
   "metadata": {},
   "outputs": [
    {
     "name": "stdout",
     "output_type": "stream",
     "text": [
      "          City Latitude Longitude\n",
      "0        Århus   57.05N    10.33E\n",
      "3239     Çorlu   40.99N    27.69E\n",
      "6478     Çorum   40.99N    34.08E\n",
      "9607   Öskemen   50.63N    82.39E\n",
      "11925   Ürümqi   44.20N    87.20E\n",
      "Index(['City', 'Latitude', 'Longitude'], dtype='object')\n",
      "            City  Latitude  Longitude\n",
      "0          Århus     57.05      10.33\n",
      "3239       Çorlu     40.99      27.69\n",
      "6478       Çorum     40.99      34.08\n",
      "9607     Öskemen     50.63      82.39\n",
      "11925     Ürümqi     44.20      87.20\n",
      "...          ...       ...        ...\n",
      "8585435  Zouxian     36.17     117.35\n",
      "8587520    Zunyi     28.13     106.36\n",
      "8589605   Zurich     47.42       8.29\n",
      "8592844  Zuwarah     32.95      12.45\n",
      "8595973   Zwolle     52.24       5.26\n",
      "\n",
      "[3448 rows x 3 columns]\n",
      "number of other cities: 3448\n"
     ]
    }
   ],
   "source": [
    "data_by_city=pd.read_csv(\"GlobalLandTemperaturesByCity.csv\")\n",
    "city_location=data_by_city[['City','Latitude','Longitude']]\n",
    "city_location.drop_duplicates(subset=['City'],keep = 'first', inplace=True)\n",
    "print(city_location.head())\n",
    "\n",
    "def latitude(x):\n",
    "    a = x[0:-1]\n",
    "    b = x[-1:]\n",
    "    if b == 'N':\n",
    "        return float(a)\n",
    "    else :\n",
    "        return -float(a)\n",
    "\n",
    "def longitude(x):\n",
    "    a = x[0:-1]\n",
    "    b = x[-1:]\n",
    "    if b == 'E':\n",
    "        return float(a)\n",
    "    else :\n",
    "        return -float(a)\n",
    "    \n",
    "city_location['Latitude'] = city_location['Latitude'].apply(latitude)\n",
    "city_location['Longitude'] = city_location['Longitude'].apply(longitude)\n",
    "print(city_location.columns)\n",
    "print(city_location)\n",
    "\n",
    "\n",
    "city_location.to_csv('city_location.csv')\n",
    "\n",
    "print(\"number of other cities: \"+ str(len(city_location)))"
   ]
  },
  {
   "cell_type": "code",
   "execution_count": 3,
   "id": "0d4102d4",
   "metadata": {},
   "outputs": [
    {
     "name": "stdout",
     "output_type": "stream",
     "text": [
      "This program took : 9.534026622772217 seconds.\n"
     ]
    }
   ],
   "source": [
    "list_cities=city_location['City'].unique()\n",
    "curr_t=time.time()\n",
    "\n",
    "print(\"This program took : \"+str(curr_t-t)+\" seconds.\")\n",
    "\n",
    "# 9 seconds"
   ]
  }
 ],
 "metadata": {
  "kernelspec": {
   "display_name": "Python 3 (ipykernel)",
   "language": "python",
   "name": "python3"
  },
  "language_info": {
   "codemirror_mode": {
    "name": "ipython",
    "version": 3
   },
   "file_extension": ".py",
   "mimetype": "text/x-python",
   "name": "python",
   "nbconvert_exporter": "python",
   "pygments_lexer": "ipython3",
   "version": "3.9.13"
  }
 },
 "nbformat": 4,
 "nbformat_minor": 5
}
